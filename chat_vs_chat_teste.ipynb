{
  "nbformat": 4,
  "nbformat_minor": 0,
  "metadata": {
    "colab": {
      "provenance": [],
      "authorship_tag": "ABX9TyOv7eW7LPBAf0SQdTXCQI9N",
      "include_colab_link": true
    },
    "kernelspec": {
      "name": "python3",
      "display_name": "Python 3"
    },
    "language_info": {
      "name": "python"
    }
  },
  "cells": [
    {
      "cell_type": "markdown",
      "metadata": {
        "id": "view-in-github",
        "colab_type": "text"
      },
      "source": [
        "<a href=\"https://colab.research.google.com/github/PuluVitu/Chatbot_VS_Chatbot/blob/main/chat_vs_chat_teste.ipynb\" target=\"_parent\"><img src=\"https://colab.research.google.com/assets/colab-badge.svg\" alt=\"Open In Colab\"/></a>"
      ]
    },
    {
      "cell_type": "code",
      "execution_count": 2,
      "metadata": {
        "id": "2ue-rbsVCI6R"
      },
      "outputs": [],
      "source": [
        "#Instalando o SDK do Google\n",
        "!pip install -q -U google-generativeai"
      ]
    },
    {
      "cell_type": "markdown",
      "source": [
        "Sua API"
      ],
      "metadata": {
        "id": "FiGKb921D5gZ"
      }
    },
    {
      "cell_type": "code",
      "source": [
        "#Configurações iniciais\n",
        "import google.generativeai as genai\n",
        "\n",
        "from google.colab import userdata\n",
        "api_key = userdata.get(\"TOP_SECRET\")\n",
        "\n",
        "genai.configure(api_key=api_key)"
      ],
      "metadata": {
        "id": "4rStnTMbCWRi"
      },
      "execution_count": 1,
      "outputs": []
    },
    {
      "cell_type": "markdown",
      "source": [
        "Modelos no gemini"
      ],
      "metadata": {
        "id": "1AHWDp9kD3m4"
      }
    },
    {
      "cell_type": "code",
      "source": [
        "#Listando os modelos disponíveis\n",
        "for m in genai.list_models():\n",
        "  if 'generateContent' in m.supported_generation_methods:\n",
        "    print(m.name)"
      ],
      "metadata": {
        "id": "AO5Cot7lCXzu"
      },
      "execution_count": null,
      "outputs": []
    },
    {
      "cell_type": "markdown",
      "source": [
        "Parametros editaveis de 0 a 1"
      ],
      "metadata": {
        "id": "pYWeY6DSD0sk"
      }
    },
    {
      "cell_type": "code",
      "source": [
        "generation_config = {\n",
        "  \"candidate_count\": 1,\n",
        "  \"temperature\": 0.5,\n",
        "}"
      ],
      "metadata": {
        "id": "55IYpps3CZNs"
      },
      "execution_count": null,
      "outputs": []
    },
    {
      "cell_type": "markdown",
      "source": [
        "Parametros editaveis:\n",
        "\n",
        "*   Bloquear nenhum - BLOCK_NONE\n",
        "*   Bloquear poucos - BLOCK_ONLY_HIGH\n",
        "*   Bloquear alguns - BLOCK_MEDIUM_AND_ABOVE\n",
        "*   Bloquear muitos - BLOCK_LOW_AND_ABOVE\n",
        "\n"
      ],
      "metadata": {
        "id": "JiVfh4ShDsR8"
      }
    },
    {
      "cell_type": "code",
      "source": [
        "safety_settings={\n",
        "    'HATE': 'BLOCK_NONE',\n",
        "    'HARASSMENT': 'BLOCK_NONE',\n",
        "    'SEXUAL' : 'BLOCK_NONE',\n",
        "    'DANGEROUS' : 'BLOCK_NONE'\n",
        "    }"
      ],
      "metadata": {
        "id": "mnH2-FkwCcZn"
      },
      "execution_count": null,
      "outputs": []
    },
    {
      "cell_type": "markdown",
      "source": [
        "Aqui você teria que criar dois documentos txt contendo toda as características e personalidade de como cada chatbot vai responder.\n",
        "\n",
        "O documento tem que ser carregado dentro do ambeinte colab, clicando no icone de arquivo no lado esquero e depois na setinha para cima."
      ],
      "metadata": {
        "id": "DTNM0B4ADjT8"
      }
    },
    {
      "cell_type": "code",
      "source": [
        "# Carregando os contextos dos arquivos\n",
        "with open(\"contexto_chatbot1.txt\", \"r\") as f:\n",
        "    contexto_chatbot1 = f.read()\n",
        "\n",
        "with open(\"contexto_chatbot2.txt\", \"r\") as f:\n",
        "    contexto_chatbot2 = f.read()"
      ],
      "metadata": {
        "id": "y2t9pamYCeYW"
      },
      "execution_count": null,
      "outputs": []
    },
    {
      "cell_type": "markdown",
      "source": [
        "Criação de cada chatbot. Aqui você pode editar o modelo para o que você quer usar"
      ],
      "metadata": {
        "id": "Nx07IMIpD9Lg"
      }
    },
    {
      "cell_type": "code",
      "source": [
        "# Criando o chatbot 1 com seu contexto\n",
        "chatbot1 = genai.GenerativeModel(model_name='gemini-1.0-pro',\n",
        "                                 generation_config=generation_config,\n",
        "                                 safety_settings=safety_settings,\n",
        "                                 context=contexto_chatbot1)\n",
        "\n",
        "# Criando o chatbot 2 com seu contexto\n",
        "chatbot2 = genai.GenerativeModel(model_name='gemini-1.0-pro',\n",
        "                                 generation_config=generation_config,\n",
        "                                 safety_settings=safety_settings,\n",
        "                                 context=contexto_chatbot2)"
      ],
      "metadata": {
        "id": "ehj89_U-CpuT"
      },
      "execution_count": null,
      "outputs": []
    },
    {
      "cell_type": "markdown",
      "source": [
        "Aqui seria a mágica se funcionasse 😢"
      ],
      "metadata": {
        "id": "WevzZuIWEAF-"
      }
    },
    {
      "cell_type": "code",
      "source": [
        "chatbots = {\n",
        "    chatbot1: \"Chatbot 1\",\n",
        "    chatbot2: \"Chatbot 2\"\n",
        "}\n",
        "\n",
        "mensagem_inicial = \"Olá, tudo bem?\"\n",
        "conversa = [mensagem_inicial]\n",
        "chatbot_atual = chatbot1\n",
        "\n",
        "while True:\n",
        "    resposta = chatbot_atual.generate_content(\"\\n\".join(conversa))\n",
        "    print(f\"{chatbots[chatbot_atual]}: {resposta.text}\")\n",
        "    conversa.append(resposta.text)\n",
        "\n",
        "    # Verifica se o usuário deseja sair do loop\n",
        "    user_input = input(\"Digite 'sair' para encerrar o programa ou pressione Enter para continuar: \")\n",
        "    if user_input.lower() == \"sair\":\n",
        "        break\n",
        "\n",
        "    # Alterna para o próximo chatbot\n",
        "    if chatbot_atual == chatbot1:\n",
        "        chatbot_atual = chatbot2\n",
        "    else:\n",
        "        chatbot_atual = chatbot1"
      ],
      "metadata": {
        "id": "E-aRm1J-Cr4m"
      },
      "execution_count": null,
      "outputs": []
    },
    {
      "cell_type": "markdown",
      "source": [
        "Por algum motivo, o sistema demora muito tempo pra ler essa linha  \n",
        "resposta = chatbot_atual.generate_content(\"\\n\".join(conversa))\n",
        "\n",
        "E da erro de timeout. Como não tenho muito conhecimento em python e tudo que fiz até agora foi usar inteligências artificiais para fazer os códigos para mim, não sei sair dessa situação ainda."
      ],
      "metadata": {
        "id": "wQtrFxdhC-8x"
      }
    }
  ]
}